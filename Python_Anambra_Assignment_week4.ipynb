{
 "cells": [
  {
   "cell_type": "markdown",
   "metadata": {},
   "source": [
    "## Python Boot Camp Week 4\n",
    "\n",
    "### Questions And Tasks\n"
   ]
  },
  {
   "cell_type": "markdown",
   "metadata": {},
   "source": [
    "1. What is a class in Python?\n",
    "\n",
    "A class is used in creating objects in Python"
   ]
  },
  {
   "cell_type": "markdown",
   "metadata": {},
   "source": [
    "2. Explain the concept of inheritance with an example.\n",
    "\n",
    "The Concept of inheritance in Python programming allows a class to inherit attributes \n",
    "and methods from another class, in which case,  promotes code reuse and a structure. \n",
    "\n",
    "The class that inherits is called the subclass (or derived class), and the class \n",
    "being inherited from is called the superclass (or base class)."
   ]
  },
  {
   "cell_type": "code",
   "execution_count": 5,
   "metadata": {},
   "outputs": [
    {
     "name": "stdout",
     "output_type": "stream",
     "text": [
      "Meet my mum, Chiwandu\n",
      "Here's my son, \n"
     ]
    },
    {
     "data": {
      "text/plain": [
       "<bound method myParent.myMum of <__main__.mySon object at 0x0000019D4664C190>>"
      ]
     },
     "execution_count": 5,
     "metadata": {},
     "output_type": "execute_result"
    }
   ],
   "source": [
    "# The Base class:\n",
    "\n",
    "class myParent:\n",
    "    def __init__(self, name):\n",
    "        self.name = name\n",
    "    \n",
    "    def myMum(self):\n",
    "        print(\"Meet my mum, \" + self.name)\n",
    "    \n",
    "mum = myParent(\"Chiwandu\")\n",
    "mum.myMum()\n",
    "    \n",
    "# The Subclass (Derived class)\n",
    "    \n",
    "class mySon(myParent):\n",
    "    print(\"Here's my son, \")\n",
    "\n",
    "son = mySon(\"Chibuike\")\n",
    "son.myMum\n",
    "   "
   ]
  },
  {
   "cell_type": "markdown",
   "metadata": {},
   "source": [
    "3. What is polymorphism in OOP?\n",
    "\n",
    "Polymorphism in Object Oriented Programme lets different objects be used as if they’re the same type. This means one interface can handle various actions, making the code more flexible and versatile.\n",
    "\n",
    "It can also be refer to methods/functions/operators with the same name that can be executed on many objects or classes."
   ]
  },
  {
   "cell_type": "code",
   "execution_count": null,
   "metadata": {},
   "outputs": [],
   "source": []
  }
 ],
 "metadata": {
  "kernelspec": {
   "display_name": "base",
   "language": "python",
   "name": "python3"
  },
  "language_info": {
   "codemirror_mode": {
    "name": "ipython",
    "version": 3
   },
   "file_extension": ".py",
   "mimetype": "text/x-python",
   "name": "python",
   "nbconvert_exporter": "python",
   "pygments_lexer": "ipython3",
   "version": "3.11.5"
  }
 },
 "nbformat": 4,
 "nbformat_minor": 2
}

# PYTHON ANAMBRA BOOTCAMP

## ASSIGNMENT SOLUTION



### 1. What is the significance of indentation in Python?

- It makes your coding neat
- It is used for loops, conditional statements, etc
- It is a proper way to understand the nesting of code lines
- It makes the beginning and end of code blocks
- It makes your code to be easy for understanding, modify and debugging




### 2. How do you write a comment in Python?

Comment in Python is to give a brief explanation to a particular line or lines of code. And we do that by using Hashtags (#) to precede the comment so that Python can recognize that line as a comment.




### 3. Write a Python script to print “Welcome to Python Bootcamp!”.

welcome = "Welcome to Python Bootcamp!"

print(welcome)



### 4. Create a program that takes a user’s name as input and prints a personalized greeting.

print("PYTHON ANAMBRA")
name = input("What is your name? ")
print("You're welcome to Python Anambra Bootcamp", name)



### 5. What are the rules for naming variables in Python?

A variable is like a container for storing data values.

Variable naming conventions:

1. Snake Case is var_case
2. Camel Case is varCase
3. Pascal Case is VarCase

Rules:
- Must not start with any number
- Must not contain space
- Must not contain signs or symbols like: comma, dash, fullstop…
- Must begin with a letter either small or capital letter or underscore
- Should contain alphanumeric characters
- It is case-sensitive
- Should be easily understandable




### 6. How do you assign multiple values to multiple variables in a single line?

# Multiple values can be assigned to multiple variables by:
# Comma separated i.e.

a, b, c = "Chuks", "Weds", "Oyinbo Babe"
print(a)
print(b)
print(c)

# Equals separated i.e
a = b = c = "Zeus is stronger"
print(a)
print(b)
print(c)

# Using a variable and assigning a list to it. I.e.
akpan = ["Politician", "Rich", "Influence"]
a, b, c = akpan
print(a)
print(b)
print(c)



### 7. Declare variables of different types (integer, float, string) and print their values.

# Integer type (int)
a = 7 + 5
print(a)

#Float type (float)
b = 5.6 * 9.1
print(b)

#String type (str)
c = "Long" +  " throat"
print(c)



### 8. Write a program to swap the values of two variables.

k = int(input("k = "))
l = int(input("l = "))

temp = k
k = l
l = temp

print("Value of k: ", k)
print("Value of l: ", l)



### 9. How do you convert a string to an integer in Python?

abc_str = "543"
abc_int = int(abc_str)
print(abc_int)



### 10. What is the difference between an integer and a float in Python?

- An integer is a numeric data type that is a whole number without decimal numbers (2 or 23 or 202).

- A float is also a numeric datatype with decimal numbers attached to it. (2.34 or 4.58 or 2034.2378




### 11. Write a program to perform basic arithmetic operations (addition, subtraction, multiplication, division) on two numbers.

p = int(input("Input 1st value: "))
q = int(input("Input 2nd value: "))

Addition = p + q
Subtraction = p - q
Multplication = p * q
Division = p / q

print("Input values are: ", p , "&",  q)
print("Addition = ", Addition)
print("Subtraction = ", Subtraction)
print("Multiplication = ", Multplication)
print("Division = ", Division)

### 12. Create a program that concatenates two strings and prints the result.

print("Input your names here")
print("---------------------")
str1 = input("Surname: ")
str2 = input("Firstname: ")
print("Hello", str1, str2)




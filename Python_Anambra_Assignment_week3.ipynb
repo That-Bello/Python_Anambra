{
 "cells": [
  {
   "cell_type": "markdown",
   "metadata": {},
   "source": [
    "## Python Boot Camp Week 3\n",
    "\n",
    "### AssignmentsAnd Tasks"
   ]
  },
  {
   "cell_type": "markdown",
   "metadata": {},
   "source": []
  },
  {
   "cell_type": "markdown",
   "metadata": {
    "vscode": {
     "languageId": "plaintext"
    }
   },
   "source": [
    "### Questions"
   ]
  },
  {
   "cell_type": "markdown",
   "metadata": {},
   "source": [
    "1.         What is the difference between if and elif statements?\n",
    "\n",
    "Both if and elif statements are conditional statements for executing a program\n",
    "\n",
    "The if statement:\n",
    "- Once executed, it check once\n",
    "- Used for the initial condition check.\n",
    "- If the condition is true, the code inside the if block is executed.\n",
    "- If the condition is false, the code inside the if block is skipped.\n",
    "\n",
    "The elif statement:\n",
    "- use for the continuation of the if condition, if it is false\n",
    "- if is also use of multiple conditions\n",
    "- if it is true, the condition terminates\n",
    "- it is know as 'else if'"
   ]
  },
  {
   "cell_type": "code",
   "execution_count": null,
   "metadata": {
    "vscode": {
     "languageId": "plaintext"
    }
   },
   "outputs": [],
   "source": []
  },
  {
   "cell_type": "markdown",
   "metadata": {},
   "source": [
    "2.         How does a for loop differ from a while loop?\n",
    "\n",
    "The **FOR LOOP** is process by which the number of outcomes are known and executed, just like iterating through the items. It is used for iterating over a sequence, which ca be a list, a tuple, a dictionary, a set, or a string).\n",
    "\n",
    "The **WHILE LOOP** is or are conditions to be met before going the next executable command, as long as the condition remains true.\n",
    "\n",
    "So, *for loops* are great when the number of iterations is known, *while loops* are better when the number of iterations is dependent on a condition."
   ]
  },
  {
   "cell_type": "code",
   "execution_count": null,
   "metadata": {
    "vscode": {
     "languageId": "plaintext"
    }
   },
   "outputs": [],
   "source": []
  },
  {
   "cell_type": "markdown",
   "metadata": {
    "vscode": {
     "languageId": "plaintext"
    }
   },
   "source": [
    "3.         What is a lambda function?\n",
    "\n",
    "A **Lambda function is** is a concise way to represent a function in programming. Essentially, it's a small, anonymous function defined with the lambda keyword."
   ]
  },
  {
   "cell_type": "code",
   "execution_count": null,
   "metadata": {
    "vscode": {
     "languageId": "plaintext"
    }
   },
   "outputs": [],
   "source": []
  }
 ],
 "metadata": {
  "language_info": {
   "name": "python"
  }
 },
 "nbformat": 4,
 "nbformat_minor": 2
}

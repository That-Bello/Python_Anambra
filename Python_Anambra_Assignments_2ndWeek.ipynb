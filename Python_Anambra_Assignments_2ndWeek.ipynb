{
 "cells": [
  {
   "cell_type": "markdown",
   "id": "20cb29e8",
   "metadata": {},
   "source": [
    "## Python Boot Camp Week 2\n",
    "\n",
    "### Assigngments And Tasks"
   ]
  },
  {
   "cell_type": "code",
   "execution_count": null,
   "id": "08acafb5",
   "metadata": {},
   "outputs": [],
   "source": []
  },
  {
   "cell_type": "markdown",
   "id": "dec5db3b",
   "metadata": {},
   "source": [
    "### 1. What is a variable in Pytohn"
   ]
  },
  {
   "cell_type": "markdown",
   "id": "c361c980",
   "metadata": {},
   "source": [
    "Variable in Python is like a container that holds a piece of data. Just like labelling a box and add contents into it."
   ]
  },
  {
   "cell_type": "code",
   "execution_count": null,
   "id": "3c6438e8",
   "metadata": {},
   "outputs": [],
   "source": []
  },
  {
   "cell_type": "markdown",
   "id": "ad80c03b",
   "metadata": {},
   "source": [
    "### 2. Explain the difference between a list and a tuple."
   ]
  },
  {
   "cell_type": "code",
   "execution_count": null,
   "id": "cf3bec9a",
   "metadata": {},
   "outputs": [],
   "source": []
  },
  {
   "cell_type": "markdown",
   "id": "f6055946",
   "metadata": {},
   "source": [
    "The different between a list and a tuple are:\n",
    "\n",
    "List:\n",
    "- Mutable which means, its contents can be modified.\n",
    "- It is enclosed in a square brackets []\n",
    "For example:\n",
    "    names = (\"Chuks\", \"Paul\", \"Zacch\")\n",
    "\n",
    "\n",
    "Tuple:\n",
    "- Immutable, it means its content cannot be modified once created\n",
    "- It is enclosed in a parentheses ()\n",
    "For example\"\n",
    "    names2 = [\"Moses\", \"Tunde\", Charlott\"]"
   ]
  },
  {
   "cell_type": "code",
   "execution_count": null,
   "id": "a47d8f0f",
   "metadata": {},
   "outputs": [],
   "source": []
  },
  {
   "cell_type": "markdown",
   "id": "7d831cb1",
   "metadata": {},
   "source": [
    "### 3. How do you format a string in Python?"
   ]
  },
  {
   "cell_type": "code",
   "execution_count": null,
   "id": "d8f079c7",
   "metadata": {},
   "outputs": [],
   "source": []
  },
  {
   "cell_type": "markdown",
   "id": "40e2ed4b",
   "metadata": {},
   "source": [
    "Formatting a string allows one to insert values into placeholders within a string. \n",
    "The placeholders are defined using curly brackets {}. \n",
    "\n",
    "For example:"
   ]
  },
  {
   "cell_type": "code",
   "execution_count": 5,
   "id": "29a6adb9",
   "metadata": {},
   "outputs": [
    {
     "name": "stdout",
     "output_type": "stream",
     "text": [
      "The value of mango is 13.14\n"
     ]
    }
   ],
   "source": [
    "amount = f'The value of mango is {13.14}'\n",
    "print(amount)"
   ]
  },
  {
   "cell_type": "code",
   "execution_count": null,
   "id": "3b116a43",
   "metadata": {},
   "outputs": [],
   "source": []
  },
  {
   "cell_type": "markdown",
   "id": "3a29bf1f",
   "metadata": {},
   "source": [
    "# Tasks"
   ]
  },
  {
   "cell_type": "code",
   "execution_count": null,
   "id": "785803e6",
   "metadata": {},
   "outputs": [],
   "source": []
  },
  {
   "cell_type": "markdown",
   "id": "3924dd03",
   "metadata": {},
   "source": [
    "### 1.   Write a Python program to swap two variables."
   ]
  },
  {
   "cell_type": "code",
   "execution_count": null,
   "id": "0a8e5c01",
   "metadata": {},
   "outputs": [],
   "source": []
  },
  {
   "cell_type": "code",
   "execution_count": 8,
   "id": "d49fd74e",
   "metadata": {},
   "outputs": [
    {
     "name": "stdout",
     "output_type": "stream",
     "text": [
      "Fruit name: Apple\n",
      "Favourite food: Beans & Plantain\n",
      "Fruit name:  Beans & Plantain\n",
      "Favourite Food:  Apple\n"
     ]
    }
   ],
   "source": [
    "# Using the concept of two rotation:\n",
    "\n",
    "x = input(\"Fruit name: \")\n",
    "y = input(\"Favourite food: \")\n",
    "\n",
    "x,y = y,x\n",
    "\n",
    "print(\"Fruit name: \", x)\n",
    "print(\"Favourite Food: \", y)"
   ]
  },
  {
   "cell_type": "code",
   "execution_count": null,
   "id": "aac5af6e",
   "metadata": {},
   "outputs": [],
   "source": []
  },
  {
   "cell_type": "markdown",
   "id": "4f59adc0",
   "metadata": {},
   "source": [
    "### 2. Create a list of your favorite movies and print each movie using a loop."
   ]
  },
  {
   "cell_type": "code",
   "execution_count": null,
   "id": "cf4ca212",
   "metadata": {},
   "outputs": [],
   "source": []
  },
  {
   "cell_type": "code",
   "execution_count": 14,
   "id": "d8ceab6c",
   "metadata": {},
   "outputs": [],
   "source": [
    "movList = [\"Dead Seious\", \"The Weekend\", \"Beast of Two Worlds\", \"Tokunbo\", \"Freedom Way\", \"Last Breath\", \"The Endless\"]"
   ]
  },
  {
   "cell_type": "code",
   "execution_count": 13,
   "id": "d432ca8a",
   "metadata": {},
   "outputs": [
    {
     "name": "stdout",
     "output_type": "stream",
     "text": [
      "Dead Seious\n",
      "The Weekend\n",
      "Beast of Two Worlds\n",
      "Tokunbo\n",
      "Freedom Way\n",
      "Last Breath\n",
      "The Endless\n",
      "--- These are my movie list ---\n"
     ]
    }
   ],
   "source": [
    "for x in movList:\n",
    "    print(x)\n",
    "\n",
    "print(\"--- These are my movie list ---\")"
   ]
  },
  {
   "cell_type": "code",
   "execution_count": null,
   "id": "0c05a3b4",
   "metadata": {},
   "outputs": [],
   "source": []
  },
  {
   "cell_type": "markdown",
   "id": "14f1ea70",
   "metadata": {},
   "source": [
    "### 3. Write a program to calculate the area of a circle given its radius."
   ]
  },
  {
   "cell_type": "code",
   "execution_count": null,
   "id": "1683c8b0",
   "metadata": {},
   "outputs": [],
   "source": []
  },
  {
   "cell_type": "code",
   "execution_count": 23,
   "id": "69fcc14e",
   "metadata": {},
   "outputs": [],
   "source": [
    "# Area of a circle and its radius. The formula for the area of a circle is:\n",
    "\n",
    "# Area = π * r²\n",
    "\n",
    "import math\n"
   ]
  },
  {
   "cell_type": "code",
   "execution_count": 86,
   "id": "0bab7bb3",
   "metadata": {},
   "outputs": [
    {
     "name": "stdout",
     "output_type": "stream",
     "text": [
      "Enter the radius of the circle: 33\n",
      "The Area of A Circle is: 3421.194399759285\n"
     ]
    }
   ],
   "source": [
    "radius = float(input(\"Enter the radius of the circle: \"))\n",
    "\n",
    "area = math.pi * radius**2\n",
    "\n",
    "print(f\"The Area of A Circle is: {area}\")"
   ]
  },
  {
   "cell_type": "code",
   "execution_count": null,
   "id": "7931d630",
   "metadata": {},
   "outputs": [],
   "source": []
  },
  {
   "cell_type": "markdown",
   "id": "0524d629",
   "metadata": {},
   "source": [
    "### 4. Write a simple Python code to take your name, Age, and weight from the console and print My name is ____, and I am ___ years Old. I weigh ____ kg."
   ]
  },
  {
   "cell_type": "code",
   "execution_count": null,
   "id": "76554282",
   "metadata": {},
   "outputs": [],
   "source": []
  },
  {
   "cell_type": "code",
   "execution_count": 31,
   "id": "606cb4e3",
   "metadata": {},
   "outputs": [
    {
     "name": "stdout",
     "output_type": "stream",
     "text": [
      "What is your name? Bello Abdul'Azeez\n",
      "What is your age? 34\n",
      "Enter your weigth in kg: 56.7\n",
      "My name is Bello Abdul'Azeez, and I am 34 years Old. I weigh 56.7 kg.\n"
     ]
    }
   ],
   "source": [
    "# Python code to take your name, Age, and weight from the console\n",
    "\n",
    "name = input(\"What is your name? \")\n",
    "age = int(input(\"What is your age? \"))\n",
    "weight = float(input(\"Enter your weigth in kg: \"))\n",
    "\n",
    "print(f\"My name is {name}, and I am {age} years Old. I weigh {weight} kg.\")"
   ]
  },
  {
   "cell_type": "code",
   "execution_count": null,
   "id": "f8a29157",
   "metadata": {},
   "outputs": [],
   "source": []
  },
  {
   "cell_type": "markdown",
   "id": "158db9ce",
   "metadata": {},
   "source": [
    "### 5. Write a simple Python code, in the code, create a dictionary of students' data with the following keys: name, Reg_NO, gender. Each will have a minimum of 5 entries. The student data in this format: _____ with Reg NO _____ is a _______\n"
   ]
  },
  {
   "cell_type": "code",
   "execution_count": null,
   "id": "fd900946",
   "metadata": {},
   "outputs": [],
   "source": []
  },
  {
   "cell_type": "code",
   "execution_count": 77,
   "id": "de239432",
   "metadata": {},
   "outputs": [],
   "source": [
    "# Python code, in the code, create a dictionary of students' data with the following keys: name, Reg_NO, gender.\n",
    "\n",
    "student_data = {\n",
    "\n",
    "    \"std_001\": {\n",
    "        \"Name\": \"Chinenye Patrick\",\n",
    "        \"Reg_No\": 342320,\n",
    "        \"Gender\": \"Female\"\n",
    "    },\n",
    "\n",
    "    \"std_002\": {\n",
    "        \"Name\": \"John Conor\",\n",
    "        \"Reg_No\": 342112,\n",
    "        \"Gender\": \"Male\"\n",
    "    },\n",
    "\n",
    "    \"std_003\": {\n",
    "        \"Name\": \"Mabella Hulks\",\n",
    "        \"Reg_No\": 342768,\n",
    "        \"Gender\": \"Female\"\n",
    "    },\n",
    "\n",
    "    \"std_004\": {\n",
    "        \"Name\":\"Tade Tunde\",\n",
    "        \"Reg_No\": 342556,\n",
    "        \"Gender\": \"Male\"\n",
    "    },\n",
    "\n",
    "    \"std_005\": {\n",
    "        \"Name\": \"Fatima Williams\",\n",
    "        \"Reg_No\": 342908,\n",
    "        \"Gender\": \"Female\"\n",
    "    }\n",
    "\n",
    "}"
   ]
  },
  {
   "cell_type": "code",
   "execution_count": 78,
   "id": "9a0dc5bf",
   "metadata": {},
   "outputs": [
    {
     "name": "stdout",
     "output_type": "stream",
     "text": [
      "{'Name': 'Chinenye Patrick', 'Reg_No': 342320, 'Gender': 'Female'}\n",
      "{'Name': 'John Conor', 'Reg_No': 342112, 'Gender': 'Male'}\n",
      "{'Name': 'Mabella Hulks', 'Reg_No': 342768, 'Gender': 'Female'}\n",
      "{'Name': 'Tade Tunde', 'Reg_No': 342556, 'Gender': 'Male'}\n",
      "{'Name': 'Fatima Williams', 'Reg_No': 342908, 'Gender': 'Female'}\n"
     ]
    }
   ],
   "source": [
    "print(std_001)\n",
    "print(std_002)\n",
    "print(std_003)\n",
    "print(std_004)\n",
    "print(std_005)"
   ]
  },
  {
   "cell_type": "code",
   "execution_count": 84,
   "id": "501db1c7",
   "metadata": {},
   "outputs": [
    {
     "name": "stdout",
     "output_type": "stream",
     "text": [
      "Chinenye Patrick with Reg No. 342320 is a Female\n",
      "John Conor with Reg No. 342112 is a Male\n",
      "Mabella Hulks with Reg No. 342768 is a Female\n",
      "Tade Tunde with Reg No. 342556 is a Male\n",
      "Fatima Williams with Reg No. 342908 is a Female\n"
     ]
    }
   ],
   "source": [
    "for student_id, data in student_data.items():\n",
    "    print(f\"{data['Name']} with Reg No. {data['Reg_No']} is a {data['Gender']}\")"
   ]
  },
  {
   "cell_type": "code",
   "execution_count": null,
   "id": "2457e0df",
   "metadata": {},
   "outputs": [],
   "source": []
  },
  {
   "cell_type": "markdown",
   "id": "84a5ffce",
   "metadata": {},
   "source": [
    "# PROJECT"
   ]
  },
  {
   "cell_type": "code",
   "execution_count": null,
   "id": "946e99e3",
   "metadata": {},
   "outputs": [],
   "source": []
  },
  {
   "cell_type": "markdown",
   "id": "6fc800c3",
   "metadata": {},
   "source": [
    "1. Create a List of Dictionaries: Each dictionary represents a contact  with fields like \"name\", \"phone\", and \"email\".\n",
    "2. Access and Print Data: Access individual contacts and print their details.\n",
    "3. Modify Data: Update a contact's information directly.\n",
    "4. Add and Remove Contacts: Add a new contact to the list or remove an existing one."
   ]
  },
  {
   "cell_type": "code",
   "execution_count": null,
   "id": "bc009c2d",
   "metadata": {},
   "outputs": [],
   "source": []
  },
  {
   "cell_type": "code",
   "execution_count": 88,
   "id": "071a6b6d",
   "metadata": {},
   "outputs": [],
   "source": [
    "# 1. Create a List of Dictionaries: Each dictionary represents a contact  with fields like \"name\", \"phone\", and \"email\".\n",
    "\n",
    "# Create a List of Dictionaries\n",
    "\n",
    "dictContacts = {\n",
    "    \n",
    "    \"person_01\": {\n",
    "        \"Name\": \"Bob Michael\",\n",
    "        \"Phone\": 8033231322,\n",
    "        \"eMail\": \"bob_mik@yahoo.com\"\n",
    "    },\n",
    "    \n",
    "    \"person_02\": {\n",
    "        \"Name\": \"Wale Ade\",\n",
    "        \"Phone\": 8023253422,\n",
    "        \"eMail\": \"wale_ade@gmail.com\"\n",
    "    },\n",
    "    \n",
    "    \"person_03\": {\n",
    "        \"Name\": \"Chuks Dallas\",\n",
    "        \"Phone\": 8071118888,\n",
    "        \"eMail\": \"chuks_d@yahoo.com\"\n",
    "    },\n",
    "    \n",
    "    \"person_04\": {\n",
    "        \"Name\": \"Lai Crook\",\n",
    "        \"Phone\": 7035551322,\n",
    "        \"eMail\": \"laicrook@gmail.com\"\n",
    "    },\n",
    "    \n",
    "    \"person_05\": {\n",
    "        \"Name\": \"Belle Heads\",\n",
    "        \"Phone\": 8033230908,\n",
    "        \"eMail\": \"belheads@yahoo.com\"\n",
    "    },\n",
    "    \n",
    "    \"person_06\": {\n",
    "        \"Name\": \"Felicia Oprah\",\n",
    "        \"Phone\": 7023344222,\n",
    "        \"eMail\": \"felopra@yahoo.com\"\n",
    "    },\n",
    "    \n",
    "    \"person_07\": {\n",
    "        \"Name\": \"Olori Oba\",\n",
    "        \"Phone\": 8033231111,\n",
    "        \"eMail\": \"olorioba@yahoo.com\"\n",
    "    },\n",
    "    \n",
    "    \"person_08\": {\n",
    "        \"Name\": \"Charlse Prince\",\n",
    "        \"Phone\": 8033231090,\n",
    "        \"eMail\": \"char_p@gmail.com\"\n",
    "    },\n",
    "    \n",
    "    \"person_09\": {\n",
    "        \"Name\": \"Jack Ebuka\",\n",
    "        \"Phone\": 8033231322,\n",
    "        \"eMail\": \"ja_ebus@yahoo.com\"\n",
    "    },\n",
    "    \n",
    "}"
   ]
  },
  {
   "cell_type": "code",
   "execution_count": null,
   "id": "9345a9e1",
   "metadata": {},
   "outputs": [],
   "source": []
  },
  {
   "cell_type": "code",
   "execution_count": 89,
   "id": "e9ebf444",
   "metadata": {},
   "outputs": [
    {
     "name": "stdout",
     "output_type": "stream",
     "text": [
      "('person_01', {'Name': 'Bob Michael', 'Phone': 8033231322, 'eMail': 'bob_mik@yahoo.com'})\n",
      "('person_02', {'Name': 'Wale Ade', 'Phone': 8023253422, 'eMail': 'wale_ade@gmail.com'})\n",
      "('person_03', {'Name': 'Chuks Dallas', 'Phone': 8071118888, 'eMail': 'chuks_d@yahoo.com'})\n",
      "('person_04', {'Name': 'Lai Crook', 'Phone': 7035551322, 'eMail': 'laicrook@gmail.com'})\n",
      "('person_05', {'Name': 'Belle Heads', 'Phone': 8033230908, 'eMail': 'belheads@yahoo.com'})\n",
      "('person_06', {'Name': 'Felicia Oprah', 'Phone': 7023344222, 'eMail': 'felopra@yahoo.com'})\n",
      "('person_07', {'Name': 'Olori Oba', 'Phone': 8033231111, 'eMail': 'olorioba@yahoo.com'})\n",
      "('person_08', {'Name': 'Charlse Prince', 'Phone': 8033231090, 'eMail': 'char_p@gmail.com'})\n",
      "('person_09', {'Name': 'Jack Ebuka', 'Phone': 8033231322, 'eMail': 'ja_ebus@yahoo.com'})\n"
     ]
    }
   ],
   "source": [
    "# 2. Access and Print Data: Access individual contacts and print their details.\n",
    "\n",
    "for Contacts in dictContacts.items():\n",
    "    print(Contacts)"
   ]
  },
  {
   "cell_type": "code",
   "execution_count": null,
   "id": "00c94266",
   "metadata": {},
   "outputs": [],
   "source": []
  },
  {
   "cell_type": "code",
   "execution_count": 90,
   "id": "6c4e130e",
   "metadata": {},
   "outputs": [],
   "source": [
    "# 3. Modify Data: Update a contact's information directly.\n",
    "\n",
    "dictContacts[\"person_01\"][\"Name\"] = \"Bobb Mike\""
   ]
  },
  {
   "cell_type": "code",
   "execution_count": 92,
   "id": "ab44eab1",
   "metadata": {},
   "outputs": [
    {
     "data": {
      "text/plain": [
       "{'Name': 'Bobb Mike', 'Phone': 8033231322, 'eMail': 'bob_mik@yahoo.com'}"
      ]
     },
     "execution_count": 92,
     "metadata": {},
     "output_type": "execute_result"
    }
   ],
   "source": [
    "dictContacts[\"person_01\"]"
   ]
  },
  {
   "cell_type": "code",
   "execution_count": 93,
   "id": "39cf6299",
   "metadata": {},
   "outputs": [],
   "source": [
    "# 4. Add and Remove Contacts: Add a new contact to the list or remove an existing one.\n",
    "\n",
    "del dictContacts[\"person_03\"]"
   ]
  },
  {
   "cell_type": "code",
   "execution_count": 94,
   "id": "d872f473",
   "metadata": {},
   "outputs": [],
   "source": [
    "new_person = {\n",
    "    \"person_3new\": {\n",
    "    \"Name\": \"Aisha Aristo\",\n",
    "    \"Phone\": 9012349876,\n",
    "    \"eMail\": \"aisharis@gmail.com\"\n",
    "    }\n",
    "}\n",
    "\n",
    "dictContacts.update(new_person)"
   ]
  },
  {
   "cell_type": "code",
   "execution_count": 95,
   "id": "9bc9d3d8",
   "metadata": {},
   "outputs": [
    {
     "data": {
      "text/plain": [
       "{'person_3new': {'Name': 'Aisha Aristo',\n",
       "  'Phone': 9012349876,\n",
       "  'eMail': 'aisharis@gmail.com'}}"
      ]
     },
     "execution_count": 95,
     "metadata": {},
     "output_type": "execute_result"
    }
   ],
   "source": [
    "new_person"
   ]
  },
  {
   "cell_type": "code",
   "execution_count": null,
   "id": "2f83f369",
   "metadata": {},
   "outputs": [],
   "source": []
  },
  {
   "cell_type": "code",
   "execution_count": 96,
   "id": "a08ce6d4",
   "metadata": {},
   "outputs": [
    {
     "name": "stdout",
     "output_type": "stream",
     "text": [
      "('person_01', {'Name': 'Bobb Mike', 'Phone': 8033231322, 'eMail': 'bob_mik@yahoo.com'})\n",
      "('person_02', {'Name': 'Wale Ade', 'Phone': 8023253422, 'eMail': 'wale_ade@gmail.com'})\n",
      "('person_04', {'Name': 'Lai Crook', 'Phone': 7035551322, 'eMail': 'laicrook@gmail.com'})\n",
      "('person_05', {'Name': 'Belle Heads', 'Phone': 8033230908, 'eMail': 'belheads@yahoo.com'})\n",
      "('person_06', {'Name': 'Felicia Oprah', 'Phone': 7023344222, 'eMail': 'felopra@yahoo.com'})\n",
      "('person_07', {'Name': 'Olori Oba', 'Phone': 8033231111, 'eMail': 'olorioba@yahoo.com'})\n",
      "('person_08', {'Name': 'Charlse Prince', 'Phone': 8033231090, 'eMail': 'char_p@gmail.com'})\n",
      "('person_09', {'Name': 'Jack Ebuka', 'Phone': 8033231322, 'eMail': 'ja_ebus@yahoo.com'})\n",
      "('person_3new', {'Name': 'Aisha Aristo', 'Phone': 9012349876, 'eMail': 'aisharis@gmail.com'})\n"
     ]
    }
   ],
   "source": [
    "for Contacts in dictContacts.items():\n",
    "    print(Contacts)"
   ]
  },
  {
   "cell_type": "code",
   "execution_count": null,
   "id": "7435de5f",
   "metadata": {},
   "outputs": [],
   "source": []
  }
 ],
 "metadata": {
  "kernelspec": {
   "display_name": "Python 3 (ipykernel)",
   "language": "python",
   "name": "python3"
  },
  "language_info": {
   "codemirror_mode": {
    "name": "ipython",
    "version": 3
   },
   "file_extension": ".py",
   "mimetype": "text/x-python",
   "name": "python",
   "nbconvert_exporter": "python",
   "pygments_lexer": "ipython3",
   "version": "3.11.5"
  }
 },
 "nbformat": 4,
 "nbformat_minor": 5
}

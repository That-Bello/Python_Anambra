{
 "cells": [
  {
   "cell_type": "markdown",
   "id": "4137373e",
   "metadata": {},
   "source": [
    "# PYTHON ANAMBRA BOOTCAMP"
   ]
  },
  {
   "cell_type": "markdown",
   "id": "05190db6",
   "metadata": {},
   "source": [
    "## ASSIGNMENT SOLUTION"
   ]
  },
  {
   "cell_type": "code",
   "execution_count": null,
   "id": "8e6956d0",
   "metadata": {},
   "outputs": [],
   "source": []
  },
  {
   "cell_type": "markdown",
   "id": "eb3902ae",
   "metadata": {},
   "source": [
    "### 1. What is the significance of indentation in Python?\n",
    "\n",
    "- It makes your coding neat\n",
    "- It is used for loops, conditional statements, etc\n",
    "- It is a proper way to understand the nesting of code lines\n",
    "- It makes the beginning and end of code blocks\n",
    "- It make your code to be easy for understanding, modify and debugging\n"
   ]
  },
  {
   "cell_type": "code",
   "execution_count": null,
   "id": "c5800fab",
   "metadata": {},
   "outputs": [],
   "source": []
  },
  {
   "cell_type": "markdown",
   "id": "e64d84d4",
   "metadata": {},
   "source": [
    "### 2. How do you write a comment in Python?\n",
    "\n",
    "Comment in Python is to give a brief explanation to a particular line or lines of code. And we do that by using Hashtags (#) to precede the comment so that Python can recognize that line as a comment.\n"
   ]
  },
  {
   "cell_type": "code",
   "execution_count": null,
   "id": "76abe71f",
   "metadata": {},
   "outputs": [],
   "source": []
  },
  {
   "cell_type": "markdown",
   "id": "e553c973",
   "metadata": {},
   "source": [
    "### 3. Write a Python script to print “Welcome to Python Bootcamp!”."
   ]
  },
  {
   "cell_type": "code",
   "execution_count": 17,
   "id": "b0d26bab",
   "metadata": {},
   "outputs": [
    {
     "name": "stdout",
     "output_type": "stream",
     "text": [
      "Welcome to Python Bootcamp!\n"
     ]
    }
   ],
   "source": [
    "welcome = \"Welcome to Python Bootcamp!\"\n",
    "\n",
    "print(welcome)"
   ]
  },
  {
   "cell_type": "code",
   "execution_count": null,
   "id": "1558d8d8",
   "metadata": {},
   "outputs": [],
   "source": []
  },
  {
   "cell_type": "markdown",
   "id": "d93673d2",
   "metadata": {},
   "source": [
    "### 4. Create a program that takes a user’s name as input and prints a personalized greeting."
   ]
  },
  {
   "cell_type": "code",
   "execution_count": 1,
   "id": "fd0c47c8",
   "metadata": {},
   "outputs": [
    {
     "name": "stdout",
     "output_type": "stream",
     "text": [
      "PYTHON ANAMBRA\n",
      "What is your name? Bello\n",
      "You're welcome to Python Anambra Bootcamp Bello\n"
     ]
    }
   ],
   "source": [
    "print(\"PYTHON ANAMBRA\")\n",
    "name = input(\"What is your name? \")\n",
    "print(\"You're welcome to Python Anambra Bootcamp\", name)"
   ]
  },
  {
   "cell_type": "code",
   "execution_count": null,
   "id": "a5f8a33d",
   "metadata": {},
   "outputs": [],
   "source": []
  },
  {
   "cell_type": "markdown",
   "id": "8cb038de",
   "metadata": {},
   "source": [
    "### 5. What are the rules for naming variables in Python?\n",
    "\n",
    "A variable is like a container for storing data values.\n",
    "\n",
    "Variable naming conventions:\n",
    "\n",
    "1. Snake Case is var_case\n",
    "2. Camel Case is varCase\n",
    "3. Pascal Case is VarCase\n",
    "\n",
    "Rules:\n",
    "- Must not start with any number\n",
    "- Must not contain space\n",
    "- Must not contain signs or symbols like: comma, dash, fullstop…\n",
    "- Must begin with a letter either small or capital letter or underscore\n",
    "- Should contain alphanumeric characters\n",
    "- It is case-sensitive\n",
    "- Should be easily understandable\n"
   ]
  },
  {
   "cell_type": "code",
   "execution_count": null,
   "id": "b2ff3bf4",
   "metadata": {},
   "outputs": [],
   "source": []
  },
  {
   "cell_type": "markdown",
   "id": "27fdff46",
   "metadata": {},
   "source": [
    "### 6. How do you assign multiple values to multiple variables in a single line?"
   ]
  },
  {
   "cell_type": "code",
   "execution_count": 21,
   "id": "1a48453b",
   "metadata": {},
   "outputs": [
    {
     "name": "stdout",
     "output_type": "stream",
     "text": [
      "Chuks\n",
      "Weds\n",
      "Oyinbo Babe\n"
     ]
    }
   ],
   "source": [
    "# Multiple values can be assigned to multiple variables by:\n",
    "# Comma separated i.e.\n",
    "\n",
    "a, b, c = \"Chuks\", \"Weds\", \"Oyinbo Babe\"\n",
    "print(a)\n",
    "print(b)\n",
    "print(c)"
   ]
  },
  {
   "cell_type": "code",
   "execution_count": 22,
   "id": "70ef43ef",
   "metadata": {},
   "outputs": [
    {
     "name": "stdout",
     "output_type": "stream",
     "text": [
      "Zeus is stronger\n",
      "Zeus is stronger\n",
      "Zeus is stronger\n"
     ]
    }
   ],
   "source": [
    "# Equals separated i.e\n",
    "a = b = c = \"Zeus is stronger\"\n",
    "print(a)\n",
    "print(b)\n",
    "print(c)"
   ]
  },
  {
   "cell_type": "code",
   "execution_count": 23,
   "id": "4b56fbd8",
   "metadata": {},
   "outputs": [
    {
     "name": "stdout",
     "output_type": "stream",
     "text": [
      "Politician\n",
      "Rich\n",
      "Influence\n"
     ]
    }
   ],
   "source": [
    "# Using a variable and assigning a list to it. I.e.\n",
    "akpan = [\"Politician\", \"Rich\", \"Influence\"]\n",
    "a, b, c = akpan\n",
    "print(a)\n",
    "print(b)\n",
    "print(c)"
   ]
  },
  {
   "cell_type": "code",
   "execution_count": null,
   "id": "79ae1d86",
   "metadata": {},
   "outputs": [],
   "source": []
  },
  {
   "cell_type": "markdown",
   "id": "2a8a8672",
   "metadata": {},
   "source": [
    "### 7. Declare variables of different types (integer, float, string) and print their values."
   ]
  },
  {
   "cell_type": "code",
   "execution_count": 25,
   "id": "15d87783",
   "metadata": {},
   "outputs": [
    {
     "name": "stdout",
     "output_type": "stream",
     "text": [
      "12\n"
     ]
    }
   ],
   "source": [
    "# Integer type (int)\n",
    "a = 7 + 5\n",
    "print(a)"
   ]
  },
  {
   "cell_type": "code",
   "execution_count": 26,
   "id": "948f9649",
   "metadata": {},
   "outputs": [
    {
     "name": "stdout",
     "output_type": "stream",
     "text": [
      "50.959999999999994\n"
     ]
    }
   ],
   "source": [
    "#Float type (float)\n",
    "b = 5.6 * 9.1\n",
    "print(b)"
   ]
  },
  {
   "cell_type": "code",
   "execution_count": 27,
   "id": "8b92ba11",
   "metadata": {},
   "outputs": [
    {
     "name": "stdout",
     "output_type": "stream",
     "text": [
      "Long throat\n"
     ]
    }
   ],
   "source": [
    "#String type (str)\n",
    "c = \"Long\" +  \" throat\"\n",
    "print(c)"
   ]
  },
  {
   "cell_type": "code",
   "execution_count": null,
   "id": "8a7662cb",
   "metadata": {},
   "outputs": [],
   "source": []
  },
  {
   "cell_type": "markdown",
   "id": "6849f0fa",
   "metadata": {},
   "source": [
    "### 8. Write a program to swap the values of two variables."
   ]
  },
  {
   "cell_type": "code",
   "execution_count": 3,
   "id": "09e0bd5e",
   "metadata": {},
   "outputs": [
    {
     "name": "stdout",
     "output_type": "stream",
     "text": [
      "k = 20\n",
      "l = 33\n",
      "Value of k:  33\n",
      "Value of l:  20\n"
     ]
    }
   ],
   "source": [
    "k = int(input(\"k = \"))\n",
    "l = int(input(\"l = \"))\n",
    "\n",
    "temp = k\n",
    "k = l\n",
    "l = temp\n",
    "\n",
    "print(\"Value of k: \", k)\n",
    "print(\"Value of l: \", l)"
   ]
  },
  {
   "cell_type": "code",
   "execution_count": null,
   "id": "24365944",
   "metadata": {},
   "outputs": [],
   "source": []
  },
  {
   "cell_type": "markdown",
   "id": "6d4b09c5",
   "metadata": {},
   "source": [
    "### 9. How do you convert a string to an integer in Python?"
   ]
  },
  {
   "cell_type": "code",
   "execution_count": 29,
   "id": "c0fe82fe",
   "metadata": {},
   "outputs": [
    {
     "name": "stdout",
     "output_type": "stream",
     "text": [
      "543\n"
     ]
    }
   ],
   "source": [
    "abc_str = \"543\"\n",
    "abc_int = int(abc_str)\n",
    "print(abc_int)"
   ]
  },
  {
   "cell_type": "code",
   "execution_count": null,
   "id": "739060e4",
   "metadata": {},
   "outputs": [],
   "source": []
  },
  {
   "cell_type": "markdown",
   "id": "a01977bf",
   "metadata": {},
   "source": [
    "### 10. What is the difference between an integer and a float in Python?\n",
    "\n",
    "- An integer is a numeric data type that is a whole number without decimal numbers (2 or 23 or 202).\n",
    "\n",
    "- A float is also a numeric datatype with decimal numbers attached to it. (2.34 or 4.58 or 2034.2378\n"
   ]
  },
  {
   "cell_type": "code",
   "execution_count": null,
   "id": "f8491ad1",
   "metadata": {},
   "outputs": [],
   "source": []
  },
  {
   "cell_type": "markdown",
   "id": "7fddc6ae",
   "metadata": {},
   "source": [
    "### 11. Write a program to perform basic arithmetic operations (addition, subtraction, multiplication, division) on two numbers."
   ]
  },
  {
   "cell_type": "code",
   "execution_count": 5,
   "id": "cfcbb309",
   "metadata": {},
   "outputs": [
    {
     "name": "stdout",
     "output_type": "stream",
     "text": [
      "Input 1st value: 98\n",
      "Input 2nd value: 23\n",
      "Input values are:  98 & 23\n",
      "Addition =  121\n",
      "Subtraction =  75\n",
      "Multiplication =  2254\n",
      "Division =  4.260869565217392\n"
     ]
    }
   ],
   "source": [
    "p = int(input(\"Input 1st value: \"))\n",
    "q = int(input(\"Input 2nd value: \"))\n",
    "\n",
    "Addition = p + q\n",
    "Subtraction = p - q\n",
    "Multplication = p * q\n",
    "Division = p / q\n",
    "\n",
    "print(\"Input values are: \", p , \"&\",  q)\n",
    "print(\"Addition = \", Addition)\n",
    "print(\"Subtraction = \", Subtraction)\n",
    "print(\"Multiplication = \", Multplication)\n",
    "print(\"Division = \", Division)"
   ]
  },
  {
   "cell_type": "markdown",
   "id": "0a64c298",
   "metadata": {},
   "source": [
    "### 12. Create a program that concatenates two strings and prints the result."
   ]
  },
  {
   "cell_type": "code",
   "execution_count": 7,
   "id": "034876f9",
   "metadata": {},
   "outputs": [
    {
     "name": "stdout",
     "output_type": "stream",
     "text": [
      "Input your names here\n",
      "---------------------\n",
      "Surname: Bello\n",
      "Firstname: Abdul'Azeez\n",
      "Hello Bello Abdul'Azeez\n"
     ]
    }
   ],
   "source": [
    "print(\"Input your names here\")\n",
    "print(\"---------------------\")\n",
    "str1 = input(\"Surname: \")\n",
    "str2 = input(\"Firstname: \")\n",
    "print(\"Hello\", str1, str2)"
   ]
  },
  {
   "cell_type": "code",
   "execution_count": null,
   "id": "2947d90f",
   "metadata": {},
   "outputs": [],
   "source": []
  },
  {
   "cell_type": "code",
   "execution_count": null,
   "id": "c480de8a",
   "metadata": {},
   "outputs": [],
   "source": []
  }
 ],
 "metadata": {
  "kernelspec": {
   "display_name": "Python 3 (ipykernel)",
   "language": "python",
   "name": "python3"
  },
  "language_info": {
   "codemirror_mode": {
    "name": "ipython",
    "version": 3
   },
   "file_extension": ".py",
   "mimetype": "text/x-python",
   "name": "python",
   "nbconvert_exporter": "python",
   "pygments_lexer": "ipython3",
   "version": "3.11.5"
  }
 },
 "nbformat": 4,
 "nbformat_minor": 5
}
